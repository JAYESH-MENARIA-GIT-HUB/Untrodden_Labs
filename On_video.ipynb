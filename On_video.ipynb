{
 "cells": [
  {
   "cell_type": "code",
   "execution_count": 6,
   "id": "23513e4e",
   "metadata": {},
   "outputs": [],
   "source": [
    "import numpy as np\n",
    "import tensorflow as tf\n",
    "import cv2\n",
    "import os\n",
    "import time\n",
    "import matplotlib.pyplot as plt"
   ]
  },
  {
   "cell_type": "code",
   "execution_count": 7,
   "id": "e3da4b86",
   "metadata": {},
   "outputs": [],
   "source": [
    "model = tf.lite.Interpreter(model_path = \"tf_lite_model.tflite\")\n",
    "model.allocate_tensors()"
   ]
  },
  {
   "cell_type": "code",
   "execution_count": 9,
   "id": "01d461ac",
   "metadata": {},
   "outputs": [],
   "source": [
    "model1 = tf.keras.models.load_model(\"mobilenetsmall.h5\")"
   ]
  },
  {
   "cell_type": "code",
   "execution_count": 8,
   "id": "6324514a",
   "metadata": {},
   "outputs": [],
   "source": [
    "def predict_tflite(image):\n",
    "\n",
    "    RGB = cv2.cvtColor(image,cv2.COLOR_BGR2RGB)\n",
    "    label = [\"Defective\",\"Not Defective\"]\n",
    "    resize = cv2.resize(RGB,(200,200)).reshape(1,200,200,3)\n",
    "    test_imgs_numpy = np.array(resize, dtype=np.float32)\n",
    "    model.set_tensor(model.get_input_details()[0]['index'], test_imgs_numpy)\n",
    "    model.invoke()\n",
    "    pred_per = model.get_tensor(model.get_output_details()[0]['index'])\n",
    "    pred_index = np.argmax(pred_per,axis=1)[0]\n",
    "\n",
    "    txt = \"Label: \"+label[pred_index]\n",
    "\n",
    "    output = cv2.putText(image.copy(),txt,(10,30),cv2.FONT_HERSHEY_PLAIN,2,[50,200,50],2)\n",
    "\n",
    "    return output,label[pred_index]"
   ]
  },
  {
   "cell_type": "code",
   "execution_count": 10,
   "id": "2b424ec2",
   "metadata": {},
   "outputs": [],
   "source": [
    "def show_prediction(image):\n",
    "    RGB = cv2.cvtColor(image,cv2.COLOR_BGR2RGB)\n",
    "    label = [\"Defective\",\"Not Defective\"]\n",
    "    resize = cv2.resize(RGB,(200,200)).reshape(1,200,200,3)\n",
    "    pred_per = model1.predict(resize)\n",
    "    pred_index = np.argmax(pred_per,axis=1)[0]\n",
    "\n",
    "    txt = \"Label: \"+label[pred_index]\n",
    "    output = cv2.putText(image.copy(),txt,(10,30),cv2.FONT_HERSHEY_PLAIN,1,[50,200,50],2)\n",
    "    return output,label[pred_index]"
   ]
  },
  {
   "cell_type": "code",
   "execution_count": null,
   "id": "83d179b5",
   "metadata": {},
   "outputs": [],
   "source": [
    "cap = cv2.VideoCapture(\"Test.mp4\")\n",
    "\n",
    "out = cv2.VideoWriter('Result.mp4',cv2.VideoWriter_fourcc(*'XVID'), 24, (1000,1000))\n",
    "\n",
    "while cap.isOpened():\n",
    "    _, frame = cap.read()\n",
    "#     frame = cv2.flip(frame,2)\n",
    "    if _ is True:\n",
    "        \n",
    "        croped = cv2.resize(frame[700:1700,50:1050],(700,700))\n",
    "        cv2.rectangle(frame,(100,100),(300,300),(0,0,0),1)\n",
    "        final_image,pred = predict_tflite(croped)\n",
    "#     out.write(final_image)\n",
    "    cv2.imshow(\"product\",final_image)\n",
    "#     cv2.imshow(\"orignal\",frame)\n",
    "    if cv2.waitKey(1) == ord(\"q\"):\n",
    "        break\n",
    "cap.release()\n",
    "cv2.destroyAllWindows()"
   ]
  },
  {
   "cell_type": "code",
   "execution_count": null,
   "id": "47fd9ed8",
   "metadata": {},
   "outputs": [],
   "source": []
  }
 ],
 "metadata": {
  "kernelspec": {
   "display_name": "Python 3 (ipykernel)",
   "language": "python",
   "name": "python3"
  },
  "language_info": {
   "codemirror_mode": {
    "name": "ipython",
    "version": 3
   },
   "file_extension": ".py",
   "mimetype": "text/x-python",
   "name": "python",
   "nbconvert_exporter": "python",
   "pygments_lexer": "ipython3",
   "version": "3.9.7"
  }
 },
 "nbformat": 4,
 "nbformat_minor": 5
}
